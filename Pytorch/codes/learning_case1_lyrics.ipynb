{
 "cells": [
  {
   "cell_type": "markdown",
   "id": "funky-certificate",
   "metadata": {},
   "source": [
    "# Language Model\n",
    "\n",
    "- Data: Jaychou Lyrics\n",
    "- Data Process:  \n",
    "    - Only use a part of this dataset\n",
    "    - Build index dictionary\n",
    "    - Transform data to indices\n",
    "- Model:\n",
    "    - Recurrent Network built from scratch\n",
    "    - Use built-in tools"
   ]
  },
  {
   "cell_type": "code",
   "execution_count": 1,
   "id": "employed-violin",
   "metadata": {},
   "outputs": [],
   "source": [
    "import torch\n",
    "import random\n",
    "import zipfile\n",
    "\n",
    "import renyan_utils as ry"
   ]
  },
  {
   "cell_type": "markdown",
   "id": "future-transformation",
   "metadata": {},
   "source": [
    "## Data\n",
    "\n",
    "### Read"
   ]
  },
  {
   "cell_type": "code",
   "execution_count": 2,
   "id": "crucial-charles",
   "metadata": {},
   "outputs": [],
   "source": [
    "# saved to renyan_utils.py\n",
    "def load_data_jay_lyrics(clip_num = 10000):\n",
    "    with zipfile.ZipFile('data/book_data/jaychou_lyrics.txt.zip') as zin:\n",
    "        with zin.open(\"jaychou_lyrics.txt\") as f:\n",
    "            corpus_chars = f.read().decode('utf-8')\n",
    "    corpus_chars = corpus_chars.replace('\\n', ' ').replace('\\r', ' ')\n",
    "    corpus_chars = corpus_chars[:clip_num]\n",
    "    idx_to_char = list(set(corpus_chars))\n",
    "    char_to_idx = dict([(char, i) for i, char in enumerate(idx_to_char)])\n",
    "    vocab_size = len(char_to_idx)\n",
    "    corpus_indices = [char_to_idx[char] for char in corpus_chars]\n",
    "    return corpus_indices, char_to_idx, idx_to_char, vocab_size"
   ]
  },
  {
   "cell_type": "code",
   "execution_count": 2,
   "id": "final-joyce",
   "metadata": {},
   "outputs": [],
   "source": [
    "# different every time\n",
    "corpus_indices, char_to_idx, idx_to_char, vocab_size = ry.load_data_jay_lyrics()"
   ]
  },
  {
   "cell_type": "markdown",
   "id": "intense-samoa",
   "metadata": {},
   "source": [
    "### Sampling-Random"
   ]
  },
  {
   "cell_type": "code",
   "execution_count": 4,
   "id": "center-blake",
   "metadata": {},
   "outputs": [],
   "source": [
    "# saved to renyan_utils.py\n",
    "def data_iter_random(corpus_indices, batch_size, num_steps, device = None):\n",
    "    num_examples = (len(corpus_indices) - 1) // num_steps\n",
    "    epoch_size = num_examples // batch_size\n",
    "    example_indices = list(range(num_examples))\n",
    "    random.shuffle(example_indices)\n",
    "    \n",
    "    def _data(pos):\n",
    "        return corpus_indices[pos:pos + num_steps]\n",
    "    \n",
    "    if device == None:\n",
    "        device = torch.device('cuda' if torch.cuda.is_available() else 'cpu')\n",
    "    for i in range(epoch_size):\n",
    "        i = i*batch_size\n",
    "        batch_indices = example_indices[i:i + batch_size]\n",
    "        X = [_data(j * num_steps) for j in batch_indices]\n",
    "        Y = [_data(j * num_steps + 1) for j in batch_indices]\n",
    "        yield torch.tensor(X, dtype = torch.float32, device = device), torch.tensor(Y, dtype = torch.float32, device = device)"
   ]
  },
  {
   "cell_type": "code",
   "execution_count": 3,
   "id": "transsexual-steel",
   "metadata": {},
   "outputs": [
    {
     "name": "stdout",
     "output_type": "stream",
     "text": [
      "X:  tensor([[ 6.,  7.,  8.,  9., 10., 11.],\n",
      "        [ 0.,  1.,  2.,  3.,  4.,  5.]]) \n",
      "Y:  tensor([[ 7.,  8.,  9., 10., 11., 12.],\n",
      "        [ 1.,  2.,  3.,  4.,  5.,  6.]]) \n",
      "\n",
      "X:  tensor([[18., 19., 20., 21., 22., 23.],\n",
      "        [12., 13., 14., 15., 16., 17.]]) \n",
      "Y:  tensor([[19., 20., 21., 22., 23., 24.],\n",
      "        [13., 14., 15., 16., 17., 18.]]) \n",
      "\n"
     ]
    }
   ],
   "source": [
    "my_seq = list(range(30))\n",
    "for X, Y in ry.data_iter_random(my_seq, batch_size = 2, num_steps = 6):\n",
    "    print('X: ', X, '\\nY: ', Y, '\\n')"
   ]
  },
  {
   "cell_type": "markdown",
   "id": "continuing-trauma",
   "metadata": {},
   "source": [
    "## Sampling-Consecutive"
   ]
  },
  {
   "cell_type": "code",
   "execution_count": 6,
   "id": "southern-verse",
   "metadata": {},
   "outputs": [],
   "source": [
    "# saved to renyan_utils.py\n",
    "def data_iter_consecutive(corpus_indices, batch_size, num_steps, device = None):\n",
    "    if device is None:\n",
    "        device = torch.device(\"cuda\" if torch.cuda.is_available() else \"cpu\")\n",
    "    corpus_indices = torch.tensor(corpus_indices, dtype = torch.float32, device = device)\n",
    "    data_len = len(corpus_indices)\n",
    "    batch_len = data_len // batch_size\n",
    "    indices = corpus_indices[0:batch_size*batch_len].view(batch_size, batch_len)\n",
    "    epoch_size = (batch_len - 1) // num_steps\n",
    "    for i in range(epoch_size):\n",
    "        i = i * num_steps\n",
    "        X = indices[:,i:i+num_steps]\n",
    "        Y = indices[:,i+1:i+num_steps+1]\n",
    "        yield X, Y"
   ]
  },
  {
   "cell_type": "code",
   "execution_count": 4,
   "id": "governmental-championship",
   "metadata": {},
   "outputs": [
    {
     "name": "stdout",
     "output_type": "stream",
     "text": [
      "X:  tensor([[ 0.,  1.,  2.,  3.,  4.,  5.],\n",
      "        [15., 16., 17., 18., 19., 20.]]) \n",
      "Y:  tensor([[ 1.,  2.,  3.,  4.,  5.,  6.],\n",
      "        [16., 17., 18., 19., 20., 21.]]) \n",
      "\n",
      "X:  tensor([[ 6.,  7.,  8.,  9., 10., 11.],\n",
      "        [21., 22., 23., 24., 25., 26.]]) \n",
      "Y:  tensor([[ 7.,  8.,  9., 10., 11., 12.],\n",
      "        [22., 23., 24., 25., 26., 27.]]) \n",
      "\n"
     ]
    }
   ],
   "source": [
    "for X, Y in ry.data_iter_consecutive(my_seq, batch_size = 2, num_steps = 6):\n",
    "    print('X: ', X, '\\nY: ', Y, '\\n')"
   ]
  },
  {
   "cell_type": "markdown",
   "id": "grave-orleans",
   "metadata": {},
   "source": [
    "---\n",
    "\n",
    "# Recurrent Network"
   ]
  },
  {
   "cell_type": "code",
   "execution_count": 9,
   "id": "julian-curtis",
   "metadata": {},
   "outputs": [],
   "source": [
    "import time\n",
    "import math\n",
    "import numpy as np\n",
    "import torch\n",
    "from torch import nn, optim\n",
    "import torch.nn.functional as F\n",
    "import renyan_utils as ry"
   ]
  },
  {
   "cell_type": "code",
   "execution_count": 19,
   "id": "animated-upper",
   "metadata": {},
   "outputs": [],
   "source": [
    "# hyper parameter\n",
    "num_inputs, num_hiddens, num_outputs = vocab_size, 256, vocab_size\n",
    "device = torch.device(\"cuda\" if torch.cuda.is_available() else \"cpu\")"
   ]
  },
  {
   "cell_type": "code",
   "execution_count": 20,
   "id": "friendly-cooperative",
   "metadata": {},
   "outputs": [],
   "source": [
    "corpus_indices, char_to_idx, idx_to_char, vocab_size = ry.load_data_jay_lyrics()"
   ]
  },
  {
   "cell_type": "markdown",
   "id": "normal-suffering",
   "metadata": {},
   "source": [
    "## Build from scratch"
   ]
  },
  {
   "cell_type": "code",
   "execution_count": 21,
   "id": "figured-humidity",
   "metadata": {},
   "outputs": [],
   "source": [
    "def one_hot(x, n_class, dtype = torch.float32):\n",
    "    x = x.long()\n",
    "    res = torch.zeros(x.shape[0], n_class, dtype = dtype, device = x.device)\n",
    "    res.scatter_(1, x.view(-1, 1), 1)\n",
    "    return res"
   ]
  },
  {
   "cell_type": "code",
   "execution_count": 22,
   "id": "induced-report",
   "metadata": {},
   "outputs": [],
   "source": [
    "def to_onehot(X, n_class):\n",
    "    return [one_hot(X[:,i], n_class) for i in range(X.shape[1])]"
   ]
  },
  {
   "cell_type": "code",
   "execution_count": 23,
   "id": "prostate-density",
   "metadata": {},
   "outputs": [
    {
     "name": "stdout",
     "output_type": "stream",
     "text": [
      "5 torch.Size([2, 1027])\n"
     ]
    }
   ],
   "source": [
    "X = torch.arange(10).view(2, 5)\n",
    "inputs = to_onehot(X, vocab_size)\n",
    "print(len(inputs), inputs[0].shape)"
   ]
  },
  {
   "cell_type": "code",
   "execution_count": 24,
   "id": "broad-punishment",
   "metadata": {},
   "outputs": [],
   "source": [
    "def get_params():\n",
    "    def _one(shape):\n",
    "        ts = torch.tensor(np.random.normal(0, 0.01, size = shape), device = device, dtype = torch.float32)\n",
    "        return torch.nn.Parameter(ts, requires_grad = True)\n",
    "    \n",
    "    W_xh = _one((num_inputs, num_hiddens))\n",
    "    W_hh = _one((num_hiddens, num_hiddens))\n",
    "    b_h = torch.nn.Parameter(torch.zeros(num_hiddens, device = device, requires_grad = True))\n",
    "    W_hq = _one((num_hiddens, num_outputs))\n",
    "    b_q = torch.nn.Parameter(torch.zeros(num_outputs, device = device, requires_grad = True))\n",
    "    return nn.ParameterList((W_xh, W_hh, b_h, W_hq, b_q))"
   ]
  },
  {
   "cell_type": "code",
   "execution_count": 33,
   "id": "electronic-karma",
   "metadata": {},
   "outputs": [],
   "source": [
    "# model\n",
    "def init_rnn_state(batch_size, num_hiddens, device):\n",
    "    return (torch.zeros((batch_size, num_hiddens), device = device),)"
   ]
  },
  {
   "cell_type": "code",
   "execution_count": 34,
   "id": "connected-flash",
   "metadata": {},
   "outputs": [],
   "source": [
    "# shape(inputs) = (batch_size, vocab_size)\n",
    "# shape(outputs) = (batch_size, vocab_size)\n",
    "def rnn(inputs, state, params):\n",
    "    W_xh, W_hh, b_h, W_hq, b_q = params\n",
    "    H, = state\n",
    "    outputs = []\n",
    "    # X is a row vector\n",
    "    for X in inputs:\n",
    "        H = torch.tanh(torch.matmul(X, W_xh) + torch.matmul(H, W_hh) + b_h)\n",
    "        Y = torch.matmul(H, W_hq) + b_q\n",
    "        outputs.append(Y)\n",
    "    return outputs, (H,)"
   ]
  },
  {
   "cell_type": "code",
   "execution_count": 36,
   "id": "exact-center",
   "metadata": {},
   "outputs": [
    {
     "name": "stdout",
     "output_type": "stream",
     "text": [
      "5 torch.Size([2, 1027]) torch.Size([2, 256])\n"
     ]
    }
   ],
   "source": [
    "state = init_rnn_state(X.shape[0], num_hiddens, device)\n",
    "inputs = to_onehot(X.to(device), vocab_size)\n",
    "params = get_params()\n",
    "outputs, state_new = rnn(inputs, state, params)\n",
    "print(len(outputs), outputs[0].shape, state_new[0].shape)"
   ]
  },
  {
   "cell_type": "code",
   "execution_count": null,
   "id": "economic-slovenia",
   "metadata": {},
   "outputs": [],
   "source": []
  }
 ],
 "metadata": {
  "kernelspec": {
   "display_name": "Python 3",
   "language": "python",
   "name": "python3"
  },
  "language_info": {
   "codemirror_mode": {
    "name": "ipython",
    "version": 3
   },
   "file_extension": ".py",
   "mimetype": "text/x-python",
   "name": "python",
   "nbconvert_exporter": "python",
   "pygments_lexer": "ipython3",
   "version": "3.7.6"
  }
 },
 "nbformat": 4,
 "nbformat_minor": 5
}
