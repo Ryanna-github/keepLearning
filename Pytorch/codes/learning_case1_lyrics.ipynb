{
 "cells": [
  {
   "cell_type": "markdown",
   "id": "trying-sterling",
   "metadata": {},
   "source": [
    "# Language Model\n",
    "\n",
    "- Data: Jaychou Lyrics\n",
    "- Data Process:  \n",
    "    - Only use a part of this dataset\n",
    "    - Build index dictionary\n",
    "    - Transform data to indices"
   ]
  },
  {
   "cell_type": "code",
   "execution_count": 1,
   "id": "labeled-pension",
   "metadata": {},
   "outputs": [],
   "source": [
    "import torch\n",
    "import random\n",
    "import zipfile\n",
    "\n",
    "import renyan_utils as ry"
   ]
  },
  {
   "cell_type": "markdown",
   "id": "applied-scanning",
   "metadata": {},
   "source": [
    "## Data\n",
    "\n",
    "### Read"
   ]
  },
  {
   "cell_type": "code",
   "execution_count": null,
   "id": "chronic-testament",
   "metadata": {},
   "outputs": [],
   "source": [
    "# saved to renyan_utils.py\n",
    "def load_data_jay_lyrics(clip_num = 10000):\n",
    "    with zipfile.ZipFile('data/book_data/jaychou_lyrics.txt.zip') as zin:\n",
    "        with zin.open(\"jaychou_lyrics.txt\") as f:\n",
    "            corpus_chars = f.read().decode('utf-8')\n",
    "    corpus_chars = corpus_chars.replace('\\n', ' ').replace('\\r', ' ')\n",
    "    corpus_chars = corpus_chars[:clip_num]\n",
    "    idx_to_char = list(set(corpus_chars))\n",
    "    char_to_idx = dict([(char, i) for i, char in enumerate(idx_to_char)])\n",
    "    vocab_size = len(char_to_idx)\n",
    "    corpus_indices = [char_to_idx[char] for char in corpus_chars]\n",
    "    return corpus_indices, char_to_idx, idx_to_char, vocab_size"
   ]
  },
  {
   "cell_type": "code",
   "execution_count": 2,
   "id": "virtual-rebate",
   "metadata": {},
   "outputs": [],
   "source": [
    "# different every time\n",
    "corpus_indices, char_to_idx, idx_to_char, vocab_size = ry.load_data_jay_lyrics()"
   ]
  },
  {
   "cell_type": "markdown",
   "id": "ongoing-original",
   "metadata": {},
   "source": [
    "### Sampling-Random"
   ]
  },
  {
   "cell_type": "code",
   "execution_count": 31,
   "id": "retired-combination",
   "metadata": {},
   "outputs": [],
   "source": [
    "def data_iter_random(corpus_indices, batch_size, num_steps, device = None):\n",
    "    num_examples = (len(corpus_indices) - 1) // num_steps\n",
    "    epoch_size = num_examples // batch_size\n",
    "    example_indices = list(range(num_examples))\n",
    "    random.shuffle(example_indices)\n",
    "    print(example_indices)\n",
    "    \n",
    "    def _data(pos):\n",
    "        return corpus_indices[pos:pos + num_steps]\n",
    "    \n",
    "    if device == None:\n",
    "        device = torch.device('cuda' if torch.cuda.is_available() else 'cpu')\n",
    "    for i in range(epoch_size):\n",
    "        i = i*batch_size\n",
    "        batch_indices = example_indices[i:i + batch_size]\n",
    "        X = [_data(j * num_steps) for j in batch_indices]\n",
    "        Y = [_data(j * num_steps + 1) for j in batch_indices]\n",
    "        yield torch.tensor(X, dtype = torch.float32, device = device), torch.tensor(Y, dtype = torch.float32, device = device)"
   ]
  },
  {
   "cell_type": "code",
   "execution_count": 32,
   "id": "psychological-gathering",
   "metadata": {},
   "outputs": [
    {
     "name": "stdout",
     "output_type": "stream",
     "text": [
      "[2, 1, 3, 0]\n"
     ]
    }
   ],
   "source": [
    "my_seq = list(range(30))\n",
    "for X, Y in data_iter_random(my_seq, batch_size = 2, num_steps = 6):\n",
    "    pass\n",
    "#     print('X: ', X, '\\nY: ', Y, '\\n')"
   ]
  },
  {
   "cell_type": "code",
   "execution_count": null,
   "id": "specified-bible",
   "metadata": {},
   "outputs": [],
   "source": []
  }
 ],
 "metadata": {
  "kernelspec": {
   "display_name": "Python 3",
   "language": "python",
   "name": "python3"
  },
  "language_info": {
   "codemirror_mode": {
    "name": "ipython",
    "version": 3
   },
   "file_extension": ".py",
   "mimetype": "text/x-python",
   "name": "python",
   "nbconvert_exporter": "python",
   "pygments_lexer": "ipython3",
   "version": "3.7.6"
  }
 },
 "nbformat": 4,
 "nbformat_minor": 5
}
