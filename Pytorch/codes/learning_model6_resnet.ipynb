{
 "cells": [
  {
   "cell_type": "markdown",
   "id": "legislative-advertiser",
   "metadata": {},
   "source": [
    "# ResNet"
   ]
  },
  {
   "cell_type": "code",
   "execution_count": 6,
   "id": "infectious-schedule",
   "metadata": {},
   "outputs": [],
   "source": [
    "import time\n",
    "import torch\n",
    "from torch import nn, optim\n",
    "import torch.nn.functional as F\n",
    "from torchsummary import summary\n",
    "import renyan_utils as ry"
   ]
  },
  {
   "cell_type": "markdown",
   "id": "confident-hierarchy",
   "metadata": {},
   "source": [
    "## ResNet Module"
   ]
  },
  {
   "cell_type": "code",
   "execution_count": 9,
   "id": "skilled-chile",
   "metadata": {},
   "outputs": [],
   "source": [
    "class Residual(nn.Module):\n",
    "    def __init__(self, in_channels, out_channels, use_lxlconv = False, stride = 1):\n",
    "        super(Residual, self).__init__()\n",
    "        self.conv1 = nn.Conv2d(in_channels, out_channels, kernel_size = 3, padding = 1, stride = stride)\n",
    "        self.conv2 = nn.Conv2d(out_channels, out_channels, kernel_size = 3, padding = 1)\n",
    "        if use_lxlconv:\n",
    "            self.conv3 = nn.Conv2d(in_channels, out_channels, kernel_size = 1, stride = stride)\n",
    "        else:\n",
    "            self.conv3 = None\n",
    "        self.bn1 = nn.BatchNorm2d(out_channels)\n",
    "        self.bn2 = nn.BatchNorm2d(out_channels)\n",
    "    \n",
    "    def forward(self, X):\n",
    "        Y = F.relu(self.bn1(self.conv1(X)))\n",
    "        Y = self.bn2(self.conv2(Y))\n",
    "        if self.conv3:\n",
    "            X = self.conv3(X)\n",
    "        return F.relu(Y + X)"
   ]
  },
  {
   "cell_type": "code",
   "execution_count": 14,
   "id": "welcome-assets",
   "metadata": {},
   "outputs": [
    {
     "data": {
      "text/plain": [
       "torch.Size([4, 3, 6, 6])"
      ]
     },
     "execution_count": 14,
     "metadata": {},
     "output_type": "execute_result"
    }
   ],
   "source": [
    "blk = Residual(3, 3)\n",
    "X = torch.rand((4, 3, 6, 6))\n",
    "blk(X).shape"
   ]
  },
  {
   "cell_type": "code",
   "execution_count": 17,
   "id": "behavioral-order",
   "metadata": {},
   "outputs": [
    {
     "data": {
      "text/plain": [
       "torch.Size([4, 6, 3, 3])"
      ]
     },
     "execution_count": 17,
     "metadata": {},
     "output_type": "execute_result"
    }
   ],
   "source": [
    "# half width & height\n",
    "blk = Residual(3, 6, True, stride = 2)\n",
    "blk(X).shape"
   ]
  },
  {
   "cell_type": "markdown",
   "id": "sunrise-vault",
   "metadata": {},
   "source": [
    "## ResNet"
   ]
  },
  {
   "cell_type": "code",
   "execution_count": 26,
   "id": "boring-handy",
   "metadata": {},
   "outputs": [],
   "source": [
    "net = nn.Sequential(nn.Conv2d(1, 64, kernel_size = 7, stride = 2, padding = 3),\n",
    "                   nn.BatchNorm2d(64),\n",
    "                   nn.ReLU(),\n",
    "                   nn.MaxPool2d(kernel_size = 3, stride = 2, padding = 1))"
   ]
  },
  {
   "cell_type": "code",
   "execution_count": 27,
   "id": "collectible-stockholm",
   "metadata": {},
   "outputs": [],
   "source": [
    "def resnet_block(in_channels, out_channels, num_residuals, first_block = False):\n",
    "    if first_block:\n",
    "        assert in_channels == out_channels\n",
    "    blk = []\n",
    "    for i in range(num_residuals):\n",
    "        if i == 0 and not first_block:\n",
    "            blk.append(Residual(in_channels, out_channels, use_lxlconv = True, stride = 2))\n",
    "        else:\n",
    "            blk.append(Residual(out_channels, out_channels))\n",
    "        return nn.Sequential(*blk)"
   ]
  },
  {
   "cell_type": "code",
   "execution_count": 28,
   "id": "effective-syndication",
   "metadata": {},
   "outputs": [],
   "source": [
    "net.add_module(\"resnet_block1\", resnet_block(64, 64, 2, first_block = True))\n",
    "net.add_module(\"resnet_block2\", resnet_block(64, 128, 2))\n",
    "net.add_module(\"resnet_block3\", resnet_block(128, 256, 2))\n",
    "net.add_module(\"resnet_block4\", resnet_block(256, 512, 2))"
   ]
  },
  {
   "cell_type": "code",
   "execution_count": 32,
   "id": "chronic-conference",
   "metadata": {},
   "outputs": [],
   "source": [
    "net.add_module(\"global_avg_pool\", ry.GlobalAvgPool2d())\n",
    "net.add_module(\"fc\", nn.Sequential(ry.FlattenLayer(),\n",
    "                                  nn.Linear(512, 10)))"
   ]
  },
  {
   "cell_type": "code",
   "execution_count": 35,
   "id": "closed-command",
   "metadata": {},
   "outputs": [
    {
     "name": "stdout",
     "output_type": "stream",
     "text": [
      "0  output shape:\t torch.Size([1, 64, 128, 128])\n",
      "1  output shape:\t torch.Size([1, 64, 128, 128])\n",
      "2  output shape:\t torch.Size([1, 64, 128, 128])\n",
      "3  output shape:\t torch.Size([1, 64, 64, 64])\n",
      "resnet_block1  output shape:\t torch.Size([1, 64, 64, 64])\n",
      "resnet_block2  output shape:\t torch.Size([1, 128, 32, 32])\n",
      "resnet_block3  output shape:\t torch.Size([1, 256, 16, 16])\n",
      "resnet_block4  output shape:\t torch.Size([1, 512, 8, 8])\n",
      "global_avg_pool  output shape:\t torch.Size([1, 512, 1, 1])\n",
      "fc  output shape:\t torch.Size([1, 10])\n"
     ]
    }
   ],
   "source": [
    "X = torch.rand((1, 1, 256, 256))\n",
    "for name, layer in net.named_children():\n",
    "    X = layer(X)\n",
    "    print(name, ' output shape:\\t', X.shape)"
   ]
  },
  {
   "cell_type": "code",
   "execution_count": 39,
   "id": "opponent-valentine",
   "metadata": {},
   "outputs": [],
   "source": [
    "batch_size = 4\n",
    "train_iter, test_iter = ry.load_data_fashion_mnist_resize(batch_size, resize = 96)"
   ]
  },
  {
   "cell_type": "code",
   "execution_count": 41,
   "id": "iraqi-manor",
   "metadata": {},
   "outputs": [],
   "source": [
    "lr, num_epochs = 0.001, 5\n",
    "device = torch.device(\"cuda\" if torch.cuda.is_available() else \"cpu\")\n",
    "optimizer = torch.optim.Adam(net.parameters(), lr = lr)\n",
    "ry.train_mnist_net(net, train_iter, test_iter, batch_size, optimizer, device, num_epochs)"
   ]
  },
  {
   "cell_type": "code",
   "execution_count": null,
   "id": "bulgarian-novel",
   "metadata": {},
   "outputs": [],
   "source": []
  }
 ],
 "metadata": {
  "kernelspec": {
   "display_name": "Python 3",
   "language": "python",
   "name": "python3"
  },
  "language_info": {
   "codemirror_mode": {
    "name": "ipython",
    "version": 3
   },
   "file_extension": ".py",
   "mimetype": "text/x-python",
   "name": "python",
   "nbconvert_exporter": "python",
   "pygments_lexer": "ipython3",
   "version": "3.7.6"
  }
 },
 "nbformat": 4,
 "nbformat_minor": 5
}
