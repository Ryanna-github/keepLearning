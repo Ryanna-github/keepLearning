{
 "cells": [
  {
   "cell_type": "markdown",
   "metadata": {},
   "source": [
    "# Batch Normalization"
   ]
  },
  {
   "cell_type": "markdown",
   "metadata": {},
   "source": [
    "## Build from Scratch"
   ]
  },
  {
   "cell_type": "code",
   "execution_count": 2,
   "metadata": {},
   "outputs": [],
   "source": [
    "import torch\n",
    "from torch import nn, optim\n",
    "import torch.nn.functional as F\n",
    "import renyan_utils as ry"
   ]
  },
  {
   "cell_type": "code",
   "execution_count": 11,
   "metadata": {},
   "outputs": [],
   "source": [
    "def batch_norm(is_training, X, gamma, beta, moving_mean, moving_var, eps, momentum):\n",
    "    if not is_training:\n",
    "        X_hat = (X - moving_mean) / (torch.sqrt(moving_var + eps))\n",
    "    else:\n",
    "        assert len(X.shape) in (2, 4)\n",
    "        # for fully connected layer\n",
    "        if len(X.shape) == 2:\n",
    "            mean = X.mean(dim = 0) # mean of each column\n",
    "            var = ((X - mean) ** 2).mean(dim = 0)\n",
    "        # for conv2d, we calculate mean and var for axis=1\n",
    "        else:\n",
    "            mean = X.mean(dim = 0, keepdim = True).mean(dim = 2, keepdim = True).mean(dim = 3, keepdim = True)\n",
    "            var = ((X - mean) ** 2).mean(dim = 0, keepdim = True).mean(dim = 2, keepdim = True).mean(dim = 3, keepdim = True)\n",
    "        X_hat = (X - mean) / torch.sqrt(var + eps)\n",
    "        moving_mean = momentum * moving_mean + (1.0 - momentum) * mean\n",
    "        moving_var = momentum * moving_var + (1.0 - momentum) * var\n",
    "    Y = gamma * X_hat + beta\n",
    "    return Y, moving_mean, moving_var"
   ]
  },
  {
   "cell_type": "code",
   "execution_count": 24,
   "metadata": {},
   "outputs": [],
   "source": [
    "class BatchNorm(nn.Module):\n",
    "    def __init__(self, num_features, num_dims):\n",
    "        super(BatchNorm, self).__init__()\n",
    "        if num_dims == 2:\n",
    "            shape = (1, num_features)\n",
    "        else:\n",
    "            shape = (1, num_features, 1, 1)\n",
    "        self.gamma = nn.Parameter(torch.ones(shape))\n",
    "        self.beta = nn.Parameter(torch.zeros(shape))\n",
    "        self.moving_mean = torch.zeros(shape)\n",
    "        self.moving_var = torch.zeros(shape)\n",
    "    \n",
    "    def forward(self, X):\n",
    "        if self.moving_mean.device != X.device:\n",
    "            self.moving_mean = self.moving_mean.to(X.device)\n",
    "            self.moving_var = self.moving_var.to(X.device)\n",
    "        Y, self.moving_mean, self.moving_var = batch_norm(self.training, X, self.gamma, self.beta, self.moving_mean, self.moving_var, eps = 1e-5, momentum = 0.9)\n",
    "        return Y"
   ]
  },
  {
   "cell_type": "markdown",
   "metadata": {},
   "source": [
    "## BN version LeNet"
   ]
  },
  {
   "cell_type": "code",
   "execution_count": 25,
   "metadata": {},
   "outputs": [],
   "source": [
    "net = nn.Sequential(nn.Conv2d(1, 6, 5),\n",
    "                   BatchNorm(6, num_dims = 4),\n",
    "                   nn.Sigmoid(),\n",
    "                   nn.MaxPool2d(2, 2),\n",
    "                   nn.Conv2d(6, 16, 5),\n",
    "                   BatchNorm(16, num_dims = 4),\n",
    "                   nn.Sigmoid(),\n",
    "                   nn.MaxPool2d(2, 2),\n",
    "                   ry.FlattenLayer(),\n",
    "                   nn.Linear(16*4*4, 120),\n",
    "                   BatchNorm(120, num_dims = 2),\n",
    "                   nn.Sigmoid(),\n",
    "                   nn.Linear(120, 84),\n",
    "                   BatchNorm(84, num_dims = 2),\n",
    "                   nn.Sigmoid(),\n",
    "                   nn.Linear(84, 10))"
   ]
  },
  {
   "cell_type": "code",
   "execution_count": 26,
   "metadata": {},
   "outputs": [],
   "source": [
    "batch_size = 256\n",
    "device = torch.device(\"cuda\" if torch.cuda.is_available() else \"cpu\")\n",
    "train_iter, test_iter = ry.load_data_fashion_mnist_resize(batch_size)\n",
    "lr, num_epochs = 0.001, 5\n",
    "optimizer = torch.optim.Adam(net.parameters(), lr = lr)"
   ]
  },
  {
   "cell_type": "code",
   "execution_count": 27,
   "metadata": {},
   "outputs": [
    {
     "name": "stdout",
     "output_type": "stream",
     "text": [
      "training on cpu\n",
      "epoch 1, loss 0.9907, train acc 0.791, test acc 0.840, time 18.2 sec\n",
      "epoch 2, loss 0.2242, train acc 0.867, test acc 0.838, time 19.1 sec\n",
      "epoch 3, loss 0.1207, train acc 0.880, test acc 0.866, time 20.8 sec\n",
      "epoch 4, loss 0.0817, train acc 0.888, test acc 0.866, time 22.5 sec\n",
      "epoch 5, loss 0.0608, train acc 0.893, test acc 0.874, time 22.5 sec\n"
     ]
    }
   ],
   "source": [
    "ry.train_mnist_net(net, train_iter, test_iter, batch_size, optimizer, device, num_epochs)"
   ]
  },
  {
   "cell_type": "code",
   "execution_count": 33,
   "metadata": {},
   "outputs": [],
   "source": [
    "# from torchsummary import summary\n",
    "# img, lbl = next(iter(test_iter))\n",
    "# summary(net, (1, 28, 28))"
   ]
  },
  {
   "cell_type": "markdown",
   "metadata": {},
   "source": [
    "## With Tools"
   ]
  },
  {
   "cell_type": "code",
   "execution_count": 35,
   "metadata": {},
   "outputs": [],
   "source": [
    "net = nn.Sequential(nn.Conv2d(1, 6, 5),\n",
    "                   nn.BatchNorm2d(6),\n",
    "                   nn.Sigmoid(),\n",
    "                   nn.MaxPool2d(2, 2),\n",
    "                   nn.Conv2d(6, 16, 5),\n",
    "                   nn.BatchNorm2d(16),\n",
    "                   nn.Sigmoid(),\n",
    "                   nn.MaxPool2d(2, 2),\n",
    "                   ry.FlattenLayer(),\n",
    "                   nn.Linear(16*4*4, 120),\n",
    "                   nn.BatchNorm1d(120),\n",
    "                   nn.Sigmoid(),\n",
    "                   nn.Linear(120, 84),\n",
    "                   nn.BatchNorm1d(84),\n",
    "                   nn.Sigmoid(),\n",
    "                   nn.Linear(84, 10))"
   ]
  },
  {
   "cell_type": "code",
   "execution_count": 36,
   "metadata": {},
   "outputs": [
    {
     "name": "stdout",
     "output_type": "stream",
     "text": [
      "training on cpu\n",
      "epoch 1, loss 2.3329, train acc 0.068, test acc 0.064, time 12.9 sec\n",
      "epoch 2, loss 1.1664, train acc 0.068, test acc 0.065, time 12.4 sec\n",
      "epoch 3, loss 0.7776, train acc 0.068, test acc 0.065, time 13.2 sec\n",
      "epoch 4, loss 0.5832, train acc 0.068, test acc 0.064, time 14.6 sec\n",
      "epoch 5, loss 0.4666, train acc 0.068, test acc 0.064, time 14.7 sec\n"
     ]
    }
   ],
   "source": [
    "ry.train_mnist_net(net, train_iter, test_iter, batch_size, optimizer, device, num_epochs)"
   ]
  },
  {
   "cell_type": "code",
   "execution_count": null,
   "metadata": {},
   "outputs": [],
   "source": []
  }
 ],
 "metadata": {
  "kernelspec": {
   "display_name": "Python 3",
   "language": "python",
   "name": "python3"
  },
  "language_info": {
   "codemirror_mode": {
    "name": "ipython",
    "version": 3
   },
   "file_extension": ".py",
   "mimetype": "text/x-python",
   "name": "python",
   "nbconvert_exporter": "python",
   "pygments_lexer": "ipython3",
   "version": "3.7.6"
  }
 },
 "nbformat": 4,
 "nbformat_minor": 4
}
