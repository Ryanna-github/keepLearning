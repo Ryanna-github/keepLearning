{
 "cells": [
  {
   "cell_type": "markdown",
   "metadata": {},
   "source": [
    "# VGG net"
   ]
  },
  {
   "cell_type": "code",
   "execution_count": 1,
   "metadata": {},
   "outputs": [],
   "source": [
    "import time\n",
    "import torch\n",
    "from torch import nn, optim\n",
    "import torchvision\n",
    "from torchsummary import summary\n",
    "\n",
    "import renyan_utils as ry"
   ]
  },
  {
   "cell_type": "code",
   "execution_count": 2,
   "metadata": {},
   "outputs": [],
   "source": [
    "device = torch.device(\"cuda\" if torch.cuda.is_available() else 'cpu')"
   ]
  },
  {
   "cell_type": "markdown",
   "metadata": {},
   "source": [
    "## VGG block"
   ]
  },
  {
   "cell_type": "code",
   "execution_count": 3,
   "metadata": {},
   "outputs": [],
   "source": [
    "def vgg_block(num_convs, in_channels, out_channels):\n",
    "    blk = []\n",
    "    for i in range(num_convs):\n",
    "        # double conv layer\n",
    "        if i == 0:\n",
    "            blk.append(nn.Conv2d(in_channels, out_channels, kernel_size = 3, padding = 1))\n",
    "        else:\n",
    "            blk.append(nn.Conv2d(out_channels, out_channels, kernel_size = 3, padding = 1))\n",
    "    blk.append(nn.MaxPool2d(kernel_size = 2, stride = 2))\n",
    "    return nn.Sequential(*blk)"
   ]
  },
  {
   "cell_type": "code",
   "execution_count": 4,
   "metadata": {},
   "outputs": [],
   "source": [
    "conv_arch = ((1, 1, 64), (1, 64, 128), (2, 128, 256), (2, 256 ,512), (2, 512, 512))\n",
    "fc_features = 512 * 7 * 7\n",
    "fc_hidden_units = 4096 # or other customized numbers"
   ]
  },
  {
   "cell_type": "markdown",
   "metadata": {},
   "source": [
    "## VGG net"
   ]
  },
  {
   "cell_type": "code",
   "execution_count": 5,
   "metadata": {},
   "outputs": [],
   "source": [
    "def vgg(conv_arch, fc_features, fc_hidden_units = 4096):\n",
    "    net = nn.Sequential()\n",
    "    for i, (num_convs, in_channels, out_channels) in enumerate(conv_arch):\n",
    "        net.add_module(\"vgg_block_\" + str(i+1),\n",
    "                      vgg_block(num_convs, in_channels, out_channels))\n",
    "    net.add_module(\"fc\", nn.Sequential(ry.FlattenLayer(),\n",
    "                                       nn.Linear(fc_features, fc_hidden_units),\n",
    "                                       nn.ReLU(),\n",
    "                                       nn.Dropout(0.5),\n",
    "                                       nn.Linear(fc_hidden_units, fc_hidden_units),\n",
    "                                       nn.ReLU(),\n",
    "                                       nn.Dropout(0.5),\n",
    "                                       nn.Linear(fc_hidden_units, 10)))\n",
    "    \n",
    "    return net"
   ]
  },
  {
   "cell_type": "code",
   "execution_count": 6,
   "metadata": {},
   "outputs": [],
   "source": [
    "net = vgg(conv_arch, fc_features, fc_hidden_units)"
   ]
  },
  {
   "cell_type": "code",
   "execution_count": 7,
   "metadata": {},
   "outputs": [
    {
     "data": {
      "text/plain": [
       "Sequential(\n",
       "  (vgg_block_1): Sequential(\n",
       "    (0): Conv2d(1, 64, kernel_size=(3, 3), stride=(1, 1), padding=(1, 1))\n",
       "    (1): MaxPool2d(kernel_size=2, stride=2, padding=0, dilation=1, ceil_mode=False)\n",
       "  )\n",
       "  (vgg_block_2): Sequential(\n",
       "    (0): Conv2d(64, 128, kernel_size=(3, 3), stride=(1, 1), padding=(1, 1))\n",
       "    (1): MaxPool2d(kernel_size=2, stride=2, padding=0, dilation=1, ceil_mode=False)\n",
       "  )\n",
       "  (vgg_block_3): Sequential(\n",
       "    (0): Conv2d(128, 256, kernel_size=(3, 3), stride=(1, 1), padding=(1, 1))\n",
       "    (1): Conv2d(256, 256, kernel_size=(3, 3), stride=(1, 1), padding=(1, 1))\n",
       "    (2): MaxPool2d(kernel_size=2, stride=2, padding=0, dilation=1, ceil_mode=False)\n",
       "  )\n",
       "  (vgg_block_4): Sequential(\n",
       "    (0): Conv2d(256, 512, kernel_size=(3, 3), stride=(1, 1), padding=(1, 1))\n",
       "    (1): Conv2d(512, 512, kernel_size=(3, 3), stride=(1, 1), padding=(1, 1))\n",
       "    (2): MaxPool2d(kernel_size=2, stride=2, padding=0, dilation=1, ceil_mode=False)\n",
       "  )\n",
       "  (vgg_block_5): Sequential(\n",
       "    (0): Conv2d(512, 512, kernel_size=(3, 3), stride=(1, 1), padding=(1, 1))\n",
       "    (1): Conv2d(512, 512, kernel_size=(3, 3), stride=(1, 1), padding=(1, 1))\n",
       "    (2): MaxPool2d(kernel_size=2, stride=2, padding=0, dilation=1, ceil_mode=False)\n",
       "  )\n",
       "  (fc): Sequential(\n",
       "    (0): FlattenLayer()\n",
       "    (1): Linear(in_features=25088, out_features=4096, bias=True)\n",
       "    (2): ReLU()\n",
       "    (3): Dropout(p=0.5, inplace=False)\n",
       "    (4): Linear(in_features=4096, out_features=4096, bias=True)\n",
       "    (5): ReLU()\n",
       "    (6): Dropout(p=0.5, inplace=False)\n",
       "    (7): Linear(in_features=4096, out_features=10, bias=True)\n",
       "  )\n",
       ")"
      ]
     },
     "execution_count": 7,
     "metadata": {},
     "output_type": "execute_result"
    }
   ],
   "source": [
    "net"
   ]
  },
  {
   "cell_type": "code",
   "execution_count": 8,
   "metadata": {},
   "outputs": [
    {
     "name": "stdout",
     "output_type": "stream",
     "text": [
      "----------------------------------------------------------------\n",
      "        Layer (type)               Output Shape         Param #\n",
      "================================================================\n",
      "            Conv2d-1         [-1, 64, 224, 224]             640\n",
      "         MaxPool2d-2         [-1, 64, 112, 112]               0\n",
      "            Conv2d-3        [-1, 128, 112, 112]          73,856\n",
      "         MaxPool2d-4          [-1, 128, 56, 56]               0\n",
      "            Conv2d-5          [-1, 256, 56, 56]         295,168\n",
      "            Conv2d-6          [-1, 256, 56, 56]         590,080\n",
      "         MaxPool2d-7          [-1, 256, 28, 28]               0\n",
      "            Conv2d-8          [-1, 512, 28, 28]       1,180,160\n",
      "            Conv2d-9          [-1, 512, 28, 28]       2,359,808\n",
      "        MaxPool2d-10          [-1, 512, 14, 14]               0\n",
      "           Conv2d-11          [-1, 512, 14, 14]       2,359,808\n",
      "           Conv2d-12          [-1, 512, 14, 14]       2,359,808\n",
      "        MaxPool2d-13            [-1, 512, 7, 7]               0\n",
      "     FlattenLayer-14                [-1, 25088]               0\n",
      "           Linear-15                 [-1, 4096]     102,764,544\n",
      "             ReLU-16                 [-1, 4096]               0\n",
      "          Dropout-17                 [-1, 4096]               0\n",
      "           Linear-18                 [-1, 4096]      16,781,312\n",
      "             ReLU-19                 [-1, 4096]               0\n",
      "          Dropout-20                 [-1, 4096]               0\n",
      "           Linear-21                   [-1, 10]          40,970\n",
      "================================================================\n",
      "Total params: 128,806,154\n",
      "Trainable params: 128,806,154\n",
      "Non-trainable params: 0\n",
      "----------------------------------------------------------------\n",
      "Input size (MB): 0.19\n",
      "Forward/backward pass size (MB): 68.71\n",
      "Params size (MB): 491.36\n",
      "Estimated Total Size (MB): 560.26\n",
      "----------------------------------------------------------------\n"
     ]
    }
   ],
   "source": [
    "summary(net, (1, 224, 224))"
   ]
  },
  {
   "cell_type": "markdown",
   "metadata": {},
   "source": [
    "## Data"
   ]
  },
  {
   "cell_type": "code",
   "execution_count": 9,
   "metadata": {},
   "outputs": [],
   "source": [
    "# downsize channel number, not the size of images\n",
    "ratio = 8\n",
    "small_conv_arch = [(1, 1, 64//ratio), (1, 64//ratio, 128//ratio), (2, 128//ratio, 256//ratio), (2, 256//ratio, 512//ratio), (2, 512//ratio, 512//ratio)]"
   ]
  },
  {
   "cell_type": "code",
   "execution_count": 10,
   "metadata": {},
   "outputs": [],
   "source": [
    "net = vgg(small_conv_arch, fc_features//ratio, fc_hidden_units//ratio)"
   ]
  },
  {
   "cell_type": "code",
   "execution_count": 11,
   "metadata": {},
   "outputs": [
    {
     "name": "stdout",
     "output_type": "stream",
     "text": [
      "----------------------------------------------------------------\n",
      "        Layer (type)               Output Shape         Param #\n",
      "================================================================\n",
      "            Conv2d-1          [-1, 8, 224, 224]              80\n",
      "         MaxPool2d-2          [-1, 8, 112, 112]               0\n",
      "            Conv2d-3         [-1, 16, 112, 112]           1,168\n",
      "         MaxPool2d-4           [-1, 16, 56, 56]               0\n",
      "            Conv2d-5           [-1, 32, 56, 56]           4,640\n",
      "            Conv2d-6           [-1, 32, 56, 56]           9,248\n",
      "         MaxPool2d-7           [-1, 32, 28, 28]               0\n",
      "            Conv2d-8           [-1, 64, 28, 28]          18,496\n",
      "            Conv2d-9           [-1, 64, 28, 28]          36,928\n",
      "        MaxPool2d-10           [-1, 64, 14, 14]               0\n",
      "           Conv2d-11           [-1, 64, 14, 14]          36,928\n",
      "           Conv2d-12           [-1, 64, 14, 14]          36,928\n",
      "        MaxPool2d-13             [-1, 64, 7, 7]               0\n",
      "     FlattenLayer-14                 [-1, 3136]               0\n",
      "           Linear-15                  [-1, 512]       1,606,144\n",
      "             ReLU-16                  [-1, 512]               0\n",
      "          Dropout-17                  [-1, 512]               0\n",
      "           Linear-18                  [-1, 512]         262,656\n",
      "             ReLU-19                  [-1, 512]               0\n",
      "          Dropout-20                  [-1, 512]               0\n",
      "           Linear-21                   [-1, 10]           5,130\n",
      "================================================================\n",
      "Total params: 2,018,346\n",
      "Trainable params: 2,018,346\n",
      "Non-trainable params: 0\n",
      "----------------------------------------------------------------\n",
      "Input size (MB): 0.19\n",
      "Forward/backward pass size (MB): 8.59\n",
      "Params size (MB): 7.70\n",
      "Estimated Total Size (MB): 16.48\n",
      "----------------------------------------------------------------\n"
     ]
    }
   ],
   "source": [
    "summary(net, (1, 224, 224))"
   ]
  },
  {
   "cell_type": "code",
   "execution_count": 13,
   "metadata": {},
   "outputs": [],
   "source": [
    "batch_size = 16\n",
    "train_iter, test_iter = ry.load_data_fashion_mnist_resize(batch_size, resize = 224)"
   ]
  },
  {
   "cell_type": "code",
   "execution_count": 15,
   "metadata": {},
   "outputs": [],
   "source": [
    "lr, num_epochs = 0.001, 5\n",
    "optimizer = torch.optim.Adam(net.parameters(), lr = lr)\n",
    "ry.train_mnist_net(net, train_iter, test_iter, batch_size, optimizer, device, num_epochs)"
   ]
  },
  {
   "cell_type": "code",
   "execution_count": null,
   "metadata": {},
   "outputs": [],
   "source": []
  }
 ],
 "metadata": {
  "kernelspec": {
   "display_name": "Python 3",
   "language": "python",
   "name": "python3"
  },
  "language_info": {
   "codemirror_mode": {
    "name": "ipython",
    "version": 3
   },
   "file_extension": ".py",
   "mimetype": "text/x-python",
   "name": "python",
   "nbconvert_exporter": "python",
   "pygments_lexer": "ipython3",
   "version": "3.7.6"
  }
 },
 "nbformat": 4,
 "nbformat_minor": 4
}
