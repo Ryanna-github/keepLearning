{
 "cells": [
  {
   "cell_type": "markdown",
   "metadata": {},
   "source": [
    "# GoogLeNet"
   ]
  },
  {
   "cell_type": "code",
   "execution_count": 1,
   "metadata": {},
   "outputs": [],
   "source": [
    "import torch\n",
    "from torch import nn, optim\n",
    "from torch.nn import functional as F\n",
    "from torchsummary import summary\n",
    "\n",
    "import renyan_utils as ry"
   ]
  },
  {
   "cell_type": "markdown",
   "metadata": {},
   "source": [
    "## Inception Module"
   ]
  },
  {
   "cell_type": "code",
   "execution_count": 2,
   "metadata": {},
   "outputs": [],
   "source": [
    "class Inception(nn.Module):\n",
    "    def __init__(self, in_c, c1, c2, c3, c4):\n",
    "        super(Inception, self).__init__()\n",
    "        # line 1\n",
    "        self.p1_1 = nn.Conv2d(in_c, c1, kernel_size = 1)\n",
    "        # line 2\n",
    "        self.p2_1 = nn.Conv2d(in_c, c2[0], kernel_size = 1)\n",
    "        self.p2_2 = nn.Conv2d(c2[0], c2[1], kernel_size = 3, padding = 1)\n",
    "        # line 3\n",
    "        self.p3_1 = nn.Conv2d(in_c, c3[0], kernel_size = 1)\n",
    "        self.p3_2 = nn.Conv2d(c3[0], c3[1], kernel_size = 5, padding = 2)\n",
    "        # line 4\n",
    "        self.p4_1 = nn.MaxPool2d(kernel_size = 3, stride = 1, padding = 1)\n",
    "        self.p4_2 = nn.Conv2d(in_c, c4, kernel_size = 1)\n",
    "        \n",
    "    def forward(self, x):\n",
    "        p1 = F.relu(self.p1_1(x))\n",
    "        p2 = F.relu(self.p2_2(F.relu(self.p2_1(x))))\n",
    "        p3 = F.relu(self.p3_2(F.relu(self.p3_1(x))))\n",
    "        p4 = F.relu(self.p4_2(self.p4_1(x)))\n",
    "        return torch.cat((p1, p2, p3, p4), dim = 1)"
   ]
  },
  {
   "cell_type": "markdown",
   "metadata": {},
   "source": [
    "## GoogLeNet\n",
    "\n",
    "- MaxPool2d(kernel_size = 3, stride = 2) links between modules (5 in total)\n",
    "- Inception Modules assure that the size of images will correspond with each other. We only have to pay attention to channel numbers"
   ]
  },
  {
   "cell_type": "code",
   "execution_count": 3,
   "metadata": {},
   "outputs": [],
   "source": [
    "b1 = nn.Sequential(nn.Conv2d(1, 64, kernel_size = 7, stride = 2, padding = 3),\n",
    "                  nn.ReLU(),\n",
    "                  nn.MaxPool2d(kernel_size = 3, stride = 2, padding = 1))"
   ]
  },
  {
   "cell_type": "code",
   "execution_count": 4,
   "metadata": {},
   "outputs": [],
   "source": [
    "# line 2 in Inception\n",
    "b2 = nn.Sequential(nn.Conv2d(64, 64, kernel_size = 1),\n",
    "                 nn.Conv2d(64, 192, kernel_size = 3, padding = 1),\n",
    "                 nn.MaxPool2d(kernel_size = 3, stride = 2, padding = 1))"
   ]
  },
  {
   "cell_type": "code",
   "execution_count": 5,
   "metadata": {},
   "outputs": [],
   "source": [
    "# connect 2 inception modules in series\n",
    "b3 = nn.Sequential(Inception(192, 64, (96, 128), (16, 32), 32),\n",
    "                  Inception(256, 128, (128, 192), (32, 96), 64),\n",
    "                  nn.MaxPool2d(kernel_size = 3, stride = 2, padding = 1))"
   ]
  },
  {
   "cell_type": "code",
   "execution_count": 6,
   "metadata": {},
   "outputs": [],
   "source": [
    "# connect 5 inception modules in series\n",
    "b4 = nn.Sequential(Inception(480, 192, (96, 208), (16, 48), 64),\n",
    "                  Inception(512, 160, (112, 224), (24, 64), 64),\n",
    "                  Inception(512, 128, (128, 256), (24, 64), 64),\n",
    "                  Inception(512, 112, (144, 288), (32, 64), 64),\n",
    "                  Inception(528, 256, (160, 320), (32, 128), 128),\n",
    "                  nn.MaxPool2d(kernel_size = 3, stride = 2, padding = 1))"
   ]
  },
  {
   "cell_type": "code",
   "execution_count": 7,
   "metadata": {},
   "outputs": [],
   "source": [
    "# connect 2 inception modules in series\n",
    "b5 = nn.Sequential(Inception(832, 256, (160, 320), (32, 128), 128),\n",
    "                  Inception(832, 384, (192, 384), (48, 128), 128),\n",
    "                  ry.GlobalAvgPool2d())"
   ]
  },
  {
   "cell_type": "code",
   "execution_count": 8,
   "metadata": {},
   "outputs": [],
   "source": [
    "net = nn.Sequential(b1, b2, b3, b4, b5, \n",
    "                    ry.FlattenLayer(),\n",
    "                   nn.Linear(1024, 10))"
   ]
  },
  {
   "cell_type": "code",
   "execution_count": 12,
   "metadata": {},
   "outputs": [
    {
     "name": "stdout",
     "output_type": "stream",
     "text": [
      "----------------------------------------------------------------\n",
      "        Layer (type)               Output Shape         Param #\n",
      "================================================================\n",
      "            Conv2d-1           [-1, 64, 48, 48]           3,200\n",
      "              ReLU-2           [-1, 64, 48, 48]               0\n",
      "         MaxPool2d-3           [-1, 64, 24, 24]               0\n",
      "            Conv2d-4           [-1, 64, 24, 24]           4,160\n",
      "            Conv2d-5          [-1, 192, 24, 24]         110,784\n",
      "         MaxPool2d-6          [-1, 192, 12, 12]               0\n",
      "            Conv2d-7           [-1, 64, 12, 12]          12,352\n",
      "            Conv2d-8           [-1, 96, 12, 12]          18,528\n",
      "            Conv2d-9          [-1, 128, 12, 12]         110,720\n",
      "           Conv2d-10           [-1, 16, 12, 12]           3,088\n",
      "           Conv2d-11           [-1, 32, 12, 12]          12,832\n",
      "        MaxPool2d-12          [-1, 192, 12, 12]               0\n",
      "           Conv2d-13           [-1, 32, 12, 12]           6,176\n",
      "        Inception-14          [-1, 256, 12, 12]               0\n",
      "           Conv2d-15          [-1, 128, 12, 12]          32,896\n",
      "           Conv2d-16          [-1, 128, 12, 12]          32,896\n",
      "           Conv2d-17          [-1, 192, 12, 12]         221,376\n",
      "           Conv2d-18           [-1, 32, 12, 12]           8,224\n",
      "           Conv2d-19           [-1, 96, 12, 12]          76,896\n",
      "        MaxPool2d-20          [-1, 256, 12, 12]               0\n",
      "           Conv2d-21           [-1, 64, 12, 12]          16,448\n",
      "        Inception-22          [-1, 480, 12, 12]               0\n",
      "        MaxPool2d-23            [-1, 480, 6, 6]               0\n",
      "           Conv2d-24            [-1, 192, 6, 6]          92,352\n",
      "           Conv2d-25             [-1, 96, 6, 6]          46,176\n",
      "           Conv2d-26            [-1, 208, 6, 6]         179,920\n",
      "           Conv2d-27             [-1, 16, 6, 6]           7,696\n",
      "           Conv2d-28             [-1, 48, 6, 6]          19,248\n",
      "        MaxPool2d-29            [-1, 480, 6, 6]               0\n",
      "           Conv2d-30             [-1, 64, 6, 6]          30,784\n",
      "        Inception-31            [-1, 512, 6, 6]               0\n",
      "           Conv2d-32            [-1, 160, 6, 6]          82,080\n",
      "           Conv2d-33            [-1, 112, 6, 6]          57,456\n",
      "           Conv2d-34            [-1, 224, 6, 6]         226,016\n",
      "           Conv2d-35             [-1, 24, 6, 6]          12,312\n",
      "           Conv2d-36             [-1, 64, 6, 6]          38,464\n",
      "        MaxPool2d-37            [-1, 512, 6, 6]               0\n",
      "           Conv2d-38             [-1, 64, 6, 6]          32,832\n",
      "        Inception-39            [-1, 512, 6, 6]               0\n",
      "           Conv2d-40            [-1, 128, 6, 6]          65,664\n",
      "           Conv2d-41            [-1, 128, 6, 6]          65,664\n",
      "           Conv2d-42            [-1, 256, 6, 6]         295,168\n",
      "           Conv2d-43             [-1, 24, 6, 6]          12,312\n",
      "           Conv2d-44             [-1, 64, 6, 6]          38,464\n",
      "        MaxPool2d-45            [-1, 512, 6, 6]               0\n",
      "           Conv2d-46             [-1, 64, 6, 6]          32,832\n",
      "        Inception-47            [-1, 512, 6, 6]               0\n",
      "           Conv2d-48            [-1, 112, 6, 6]          57,456\n",
      "           Conv2d-49            [-1, 144, 6, 6]          73,872\n",
      "           Conv2d-50            [-1, 288, 6, 6]         373,536\n",
      "           Conv2d-51             [-1, 32, 6, 6]          16,416\n",
      "           Conv2d-52             [-1, 64, 6, 6]          51,264\n",
      "        MaxPool2d-53            [-1, 512, 6, 6]               0\n",
      "           Conv2d-54             [-1, 64, 6, 6]          32,832\n",
      "        Inception-55            [-1, 528, 6, 6]               0\n",
      "           Conv2d-56            [-1, 256, 6, 6]         135,424\n",
      "           Conv2d-57            [-1, 160, 6, 6]          84,640\n",
      "           Conv2d-58            [-1, 320, 6, 6]         461,120\n",
      "           Conv2d-59             [-1, 32, 6, 6]          16,928\n",
      "           Conv2d-60            [-1, 128, 6, 6]         102,528\n",
      "        MaxPool2d-61            [-1, 528, 6, 6]               0\n",
      "           Conv2d-62            [-1, 128, 6, 6]          67,712\n",
      "        Inception-63            [-1, 832, 6, 6]               0\n",
      "        MaxPool2d-64            [-1, 832, 3, 3]               0\n",
      "           Conv2d-65            [-1, 256, 3, 3]         213,248\n",
      "           Conv2d-66            [-1, 160, 3, 3]         133,280\n",
      "           Conv2d-67            [-1, 320, 3, 3]         461,120\n",
      "           Conv2d-68             [-1, 32, 3, 3]          26,656\n",
      "           Conv2d-69            [-1, 128, 3, 3]         102,528\n",
      "        MaxPool2d-70            [-1, 832, 3, 3]               0\n",
      "           Conv2d-71            [-1, 128, 3, 3]         106,624\n",
      "        Inception-72            [-1, 832, 3, 3]               0\n",
      "           Conv2d-73            [-1, 384, 3, 3]         319,872\n",
      "           Conv2d-74            [-1, 192, 3, 3]         159,936\n",
      "           Conv2d-75            [-1, 384, 3, 3]         663,936\n",
      "           Conv2d-76             [-1, 48, 3, 3]          39,984\n",
      "           Conv2d-77            [-1, 128, 3, 3]         153,728\n",
      "        MaxPool2d-78            [-1, 832, 3, 3]               0\n",
      "           Conv2d-79            [-1, 128, 3, 3]         106,624\n",
      "        Inception-80           [-1, 1024, 3, 3]               0\n",
      "  GlobalAvgPool2d-81           [-1, 1024, 1, 1]               0\n",
      "     FlattenLayer-82                 [-1, 1024]               0\n",
      "           Linear-83                   [-1, 10]          10,250\n",
      "================================================================\n",
      "Total params: 5,977,530\n",
      "Trainable params: 5,977,530\n",
      "Non-trainable params: 0\n",
      "----------------------------------------------------------------\n",
      "Input size (MB): 0.04\n",
      "Forward/backward pass size (MB): 9.38\n",
      "Params size (MB): 22.80\n",
      "Estimated Total Size (MB): 32.22\n",
      "----------------------------------------------------------------\n"
     ]
    }
   ],
   "source": [
    "summary(net, (1, 96, 96))"
   ]
  },
  {
   "cell_type": "code",
   "execution_count": 15,
   "metadata": {},
   "outputs": [],
   "source": [
    "batch_size = 16\n",
    "train_iter, test_iter = ry.load_data_fashion_mnist_resize(batch_size, resize = 96)\n",
    "device = torch.device('cuda' if torch.cuda.is_available() else 'cpu')\n",
    "\n",
    "lr, num_epochs = 0.001, 5\n",
    "optimizer = torch.optim.Adam(net.parameters(), lr=lr)\n",
    "ry.train_mnist_net(net, train_iter, test_iter, batch_size, optimizer, device, num_epochs)"
   ]
  }
 ],
 "metadata": {
  "kernelspec": {
   "display_name": "Python 3",
   "language": "python",
   "name": "python3"
  },
  "language_info": {
   "codemirror_mode": {
    "name": "ipython",
    "version": 3
   },
   "file_extension": ".py",
   "mimetype": "text/x-python",
   "name": "python",
   "nbconvert_exporter": "python",
   "pygments_lexer": "ipython3",
   "version": "3.7.6"
  }
 },
 "nbformat": 4,
 "nbformat_minor": 4
}
