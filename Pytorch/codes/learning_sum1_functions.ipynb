{
 "cells": [
  {
   "cell_type": "code",
   "execution_count": 1,
   "id": "crazy-territory",
   "metadata": {},
   "outputs": [],
   "source": [
    "import torch"
   ]
  },
  {
   "cell_type": "code",
   "execution_count": 16,
   "id": "alert-increase",
   "metadata": {},
   "outputs": [
    {
     "name": "stdout",
     "output_type": "stream",
     "text": [
      "tensor([[1., 2., 3.],\n",
      "        [4., 5., 6.]])\n",
      "tensor([[0, 0, 1],\n",
      "        [1, 2, 0]])\n"
     ]
    },
    {
     "data": {
      "text/plain": [
       "tensor([[1., 2., 6.],\n",
       "        [4., 0., 3.],\n",
       "        [0., 5., 0.],\n",
       "        [0., 0., 0.]])"
      ]
     },
     "execution_count": 16,
     "metadata": {},
     "output_type": "execute_result"
    }
   ],
   "source": [
    "a = torch.tensor([[1., 2, 3], [4, 5, 6]])\n",
    "print(a)\n",
    "index = torch.LongTensor([[0, 0, 1], [1, 2, 0]])\n",
    "print(index)\n",
    "torch.zeros((4, 3)).scatter_(0, index, a)\n",
    "# dim = 0 按行填充，刷过列"
   ]
  },
  {
   "cell_type": "code",
   "execution_count": 20,
   "id": "artistic-moderator",
   "metadata": {},
   "outputs": [
    {
     "name": "stdout",
     "output_type": "stream",
     "text": [
      "tensor([[1., 2., 3.],\n",
      "        [4., 5., 6.]])\n",
      "tensor([[1, 0, 2],\n",
      "        [0, 2, 0]])\n"
     ]
    },
    {
     "data": {
      "text/plain": [
       "tensor([[2., 1., 3.],\n",
       "        [6., 0., 5.],\n",
       "        [0., 0., 0.],\n",
       "        [0., 0., 0.]])"
      ]
     },
     "execution_count": 20,
     "metadata": {},
     "output_type": "execute_result"
    }
   ],
   "source": [
    "a = torch.tensor([[1., 2, 3], [4, 5, 6]])\n",
    "print(a)\n",
    "index = torch.LongTensor([[1, 0, 2], [0, 2, 0]])\n",
    "print(index)\n",
    "torch.zeros((4, 3)).scatter_(1, index, a)\n",
    "# dim = 1 一次填充一行"
   ]
  },
  {
   "cell_type": "code",
   "execution_count": 17,
   "id": "statutory-globe",
   "metadata": {},
   "outputs": [
    {
     "name": "stdout",
     "output_type": "stream",
     "text": [
      "tensor([[1, 2, 1],\n",
      "        [0, 0, 1]])\n"
     ]
    },
    {
     "data": {
      "text/plain": [
       "tensor([[2., 3., 2.],\n",
       "        [4., 4., 5.]])"
      ]
     },
     "execution_count": 17,
     "metadata": {},
     "output_type": "execute_result"
    }
   ],
   "source": [
    "index = torch.LongTensor([[1, 2, 1], [0, 0, 1]])\n",
    "print(index)\n",
    "a.gather(1, index)"
   ]
  },
  {
   "cell_type": "code",
   "execution_count": null,
   "id": "considered-collector",
   "metadata": {},
   "outputs": [],
   "source": []
  }
 ],
 "metadata": {
  "kernelspec": {
   "display_name": "Python 3",
   "language": "python",
   "name": "python3"
  },
  "language_info": {
   "codemirror_mode": {
    "name": "ipython",
    "version": 3
   },
   "file_extension": ".py",
   "mimetype": "text/x-python",
   "name": "python",
   "nbconvert_exporter": "python",
   "pygments_lexer": "ipython3",
   "version": "3.7.6"
  }
 },
 "nbformat": 4,
 "nbformat_minor": 5
}
